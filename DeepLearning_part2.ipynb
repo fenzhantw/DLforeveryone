{
  "nbformat": 4,
  "nbformat_minor": 0,
  "metadata": {
    "colab": {
      "name": "DeepLearning_part2.ipynb",
      "provenance": [],
      "authorship_tag": "ABX9TyNpDIoB3rRKyqrghePSt5Wr",
      "include_colab_link": true
    },
    "kernelspec": {
      "name": "python3",
      "display_name": "Python 3"
    },
    "language_info": {
      "name": "python"
    }
  },
  "cells": [
    {
      "cell_type": "markdown",
      "metadata": {
        "id": "view-in-github",
        "colab_type": "text"
      },
      "source": [
        "<a href=\"https://colab.research.google.com/github/fenzhantw/DLforeveryone/blob/main/DeepLearning_part2.ipynb\" target=\"_parent\"><img src=\"https://colab.research.google.com/assets/colab-badge.svg\" alt=\"Open In Colab\"/></a>"
      ]
    },
    {
      "cell_type": "code",
      "execution_count": 7,
      "metadata": {
        "id": "klLOioWcXjeG"
      },
      "outputs": [],
      "source": [
        "import tensorflow as tf\n",
        "import numpy as np\n",
        "import tensorflow.contrib.eager as tfe\n",
        "import matplotlib.pyplot as plt\n",
        "%matplotlib inline"
      ]
    },
    {
      "cell_type": "code",
      "source": [
        "pip uninstall tensorflow"
      ],
      "metadata": {
        "id": "kjvmNj-tXo3R"
      },
      "execution_count": null,
      "outputs": []
    },
    {
      "cell_type": "code",
      "source": [
        "pip install tensorflow==1.13.2"
      ],
      "metadata": {
        "id": "sAbR_-aCZyFP"
      },
      "execution_count": null,
      "outputs": []
    },
    {
      "cell_type": "code",
      "source": [
        "tf.enable_eager_execution()\n",
        "tf.set_random_seed(777)\n",
        "print(tf.__version__)"
      ],
      "metadata": {
        "colab": {
          "base_uri": "https://localhost:8080/"
        },
        "id": "RBAB9njaZ2Dw",
        "outputId": "e58a926e-ddd0-41a7-ce24-dc11425eb03f"
      },
      "execution_count": 9,
      "outputs": [
        {
          "output_type": "stream",
          "name": "stdout",
          "text": [
            "1.13.2\n"
          ]
        }
      ]
    },
    {
      "cell_type": "code",
      "source": [
        "X_data = [[0,0],\n",
        "          [0,1],\n",
        "          [1,0],\n",
        "          [1,1]]\n",
        "y_data = [[0],\n",
        "          [1],\n",
        "          [1],\n",
        "          [0]]"
      ],
      "metadata": {
        "id": "R-5MU1bSaW_R"
      },
      "execution_count": 28,
      "outputs": []
    },
    {
      "cell_type": "code",
      "source": [
        "features"
      ],
      "metadata": {
        "colab": {
          "base_uri": "https://localhost:8080/"
        },
        "id": "mRl0abOkfzVM",
        "outputId": "2023dd57-bd10-41a9-c299-234341e4dd87"
      },
      "execution_count": 36,
      "outputs": [
        {
          "output_type": "execute_result",
          "data": {
            "text/plain": [
              "<tf.Tensor: id=424, shape=(4, 2), dtype=float32, numpy=\n",
              "array([[0., 0.],\n",
              "       [0., 1.],\n",
              "       [1., 0.],\n",
              "       [1., 1.]], dtype=float32)>"
            ]
          },
          "metadata": {},
          "execution_count": 36
        }
      ]
    },
    {
      "cell_type": "code",
      "source": [
        "dataset  = tf.data.Dataset.from_tensor_slices((X_data,y_data)).batch(len(X_data))"
      ],
      "metadata": {
        "id": "t31vWEVnayE4"
      },
      "execution_count": 29,
      "outputs": []
    },
    {
      "cell_type": "code",
      "source": [
        "def preprocess_data(features,labels):\n",
        "  features  = tf.cast(features,tf.float32)\n",
        "  labels = tf.cast(labels, tf.float32)\n",
        "  return features, labels"
      ],
      "metadata": {
        "id": "sVA48f1Ca3Na"
      },
      "execution_count": 30,
      "outputs": []
    },
    {
      "cell_type": "code",
      "source": [
        "W1 = tf.Variable(tf.random_normal([2,1]),name='weight1')\n",
        "b1 = tf.Variable(tf.random_normal([1]),name='bias1')\n",
        "\n",
        "W2 = tf.Variable(tf.random_normal([2,1]),name='weight2')\n",
        "b2 = tf.Variable(tf.random_normal([1]),name='bias2')\n",
        "\n",
        "W3 = tf.Variable(tf.random_normal([2,1]),name='weight3')\n",
        "b3 = tf.Variable(tf.random_normal([1]),name='bias3')"
      ],
      "metadata": {
        "id": "UE4jRnqsbLbD"
      },
      "execution_count": 31,
      "outputs": []
    },
    {
      "cell_type": "code",
      "source": [
        "def neural_net(features):\n",
        "  layer1 = tf.sigmoid(tf.matmul(features, W1) +b1)\n",
        "  layer2 = tf.sigmoid(tf.matmul(features, W2) +b2)\n",
        "  layer3 = tf.concat([layer1,layer2],-1)\n",
        "  layer3 = tf.reshape(layer3,shape =[-1,2])\n",
        "  hypothesis = tf.sigmoid(tf.matmul(layer3,W3) +b3)\n",
        "  return hypothesis\n",
        "\n",
        "def loss_fn(hypothesis,labels):\n",
        "  cost = -tf.reduce_mean(labels*tf.log(hypothesis)+(1-labels)*tf.log(1-hypothesis))\n",
        "  return cost\n",
        "\n",
        "optimizer = tf.train.GradientDescentOptimizer(learning_rate=0.01)\n",
        "\n",
        "def accuracy_fn(hypothesis,labels):\n",
        "  predicted =  tf.cast(hypothesis > 0.5,dtype=tf.float32)\n",
        "  accuracy = tf.reduce_mean(tf.cast(tf.equal(predicted,labels),dtype=tf.float32))\n",
        "  return accuracy\n",
        "\n",
        "def grad(features,lables):\n",
        "  with tf.GradientTape() as tape:\n",
        "    loss_value = loss_fn(neural_net(features),features,labels)\n",
        "    return tape.gradient(loss_value,[W1,W2,W3,b1,b2,b3])\n",
        "\n",
        "EPOCHES = 50000\n",
        "\n",
        "for step in range(EPOCHES):\n",
        "  for features, labels in tfe.Iterator(dataset):\n",
        "      features, labels = preprocess_data(features,labels)\n",
        "      grads = grad(neural_net(features),labels)\n",
        "      optimizer.apply_gradients(grades_and_vars=zip(grads,[W1,W2,W3,b1,b2,b3]))\n",
        "      if step % 5000 == 0:\n",
        "        print(\"Iter: {},loss:{:.4f}\".format(step,loss_fn(nerual_net(features),labels)))\n",
        "X_data, y_data = preprocess_data(X_data,y_data)\n",
        "test_acc = accuracy_fn(neural_net(X_data),y_data)\n",
        "print(\"testset Accuracy:{:.4f\".format(test_acc))"
      ],
      "metadata": {
        "id": "N9J57lrUcZyD"
      },
      "execution_count": null,
      "outputs": []
    },
    {
      "cell_type": "markdown",
      "source": [
        "#Problem of sigmoid"
      ],
      "metadata": {
        "id": "uwYpBSG9h5tE"
      }
    },
    {
      "cell_type": "code",
      "source": [
        ""
      ],
      "metadata": {
        "id": "6Y5i4a3_h8su"
      },
      "execution_count": 44,
      "outputs": []
    }
  ]
}