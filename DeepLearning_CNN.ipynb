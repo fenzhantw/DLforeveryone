{
  "nbformat": 4,
  "nbformat_minor": 0,
  "metadata": {
    "colab": {
      "name": "DeepLearning_CNN.ipynb",
      "provenance": [],
      "authorship_tag": "ABX9TyOU7hrvFz1ArWxjGSUpOD12",
      "include_colab_link": true
    },
    "kernelspec": {
      "name": "python3",
      "display_name": "Python 3"
    },
    "language_info": {
      "name": "python"
    }
  },
  "cells": [
    {
      "cell_type": "markdown",
      "metadata": {
        "id": "view-in-github",
        "colab_type": "text"
      },
      "source": [
        "<a href=\"https://colab.research.google.com/github/fenzhantw/DLforeveryone/blob/main/DeepLearning_CNN.ipynb\" target=\"_parent\"><img src=\"https://colab.research.google.com/assets/colab-badge.svg\" alt=\"Open In Colab\"/></a>"
      ]
    },
    {
      "cell_type": "code",
      "execution_count": 3,
      "metadata": {
        "id": "mG1AQfotloyw"
      },
      "outputs": [],
      "source": [
        "import numpy as np\n",
        "import tensorflow as tf\n",
        "from tensorflow import keras\n",
        "import matplotlib.pyplot as plt"
      ]
    },
    {
      "cell_type": "code",
      "source": [
        "image = tf.constant([[[[1],[2],[3]],\n",
        "                   [[4],[5],[6]], \n",
        "                   [[7],[8],[9]]]], dtype=np.float32)"
      ],
      "metadata": {
        "id": "gOzISo4jmrJQ"
      },
      "execution_count": 8,
      "outputs": []
    },
    {
      "cell_type": "code",
      "source": [
        "print(image.shape)\n",
        "plt.imshow(image.numpy().reshape(3,3), cmap='Greys')\n",
        "plt.show()"
      ],
      "metadata": {
        "colab": {
          "base_uri": "https://localhost:8080/",
          "height": 287
        },
        "id": "Gyp_6VpAnjMK",
        "outputId": "047f6284-038e-4ae9-9dc0-c5f670fa886a"
      },
      "execution_count": 9,
      "outputs": [
        {
          "output_type": "stream",
          "name": "stdout",
          "text": [
            "(1, 3, 3, 1)\n"
          ]
        },
        {
          "output_type": "display_data",
          "data": {
            "text/plain": [
              "<Figure size 432x288 with 1 Axes>"
            ],
            "image/png": "[encoded data removed]"
          },
          "metadata": {
            "needs_background": "light"
          }
        }
      ]
    },
    {
      "cell_type": "code",
      "source": [
        "print(\"image.shape\", image.shape)\n",
        "weight = np.array([[[[1.]],[[1.]]],\n",
        "                   [[[1.]],[[1.]]]])\n",
        "print(\"weight.shape\", weight.shape)"
      ],
      "metadata": {
        "colab": {
          "base_uri": "https://localhost:8080/"
        },
        "id": "nq_0edMmny7i",
        "outputId": "602acd47-e74b-47ae-d5d4-e755d8e6aac8"
      },
      "execution_count": 11,
      "outputs": [
        {
          "output_type": "stream",
          "name": "stdout",
          "text": [
            "image.shape (1, 3, 3, 1)\n",
            "weight.shape (2, 2, 1, 1)\n"
          ]
        }
      ]
    },
    {
      "cell_type": "code",
      "source": [
        "print(\"image.shape\", image.shape)\n",
        "weight = np.array([[[[1.]],[[1.]]],\n",
        "                   [[[1.]],[[1.]]]])\n",
        "print(\"weight.shape\", weight.shape)\n",
        "weight_init = tf.constant_initializer(weight)\n",
        "conv2d = keras.layers.Conv2D(filters=1, kernel_size=2, padding='VALID', \n",
        "                             kernel_initializer=weight_init)(image)\n",
        "print(\"conv2d.shape\", conv2d.shape)\n",
        "print(conv2d.numpy().reshape(2,2))\n",
        "plt.imshow(conv2d.numpy().reshape(2,2), cmap='gray')\n",
        "plt.show()"
      ],
      "metadata": {
        "colab": {
          "base_uri": "https://localhost:8080/",
          "height": 360
        },
        "id": "13o_afGcoKHX",
        "outputId": "4a944097-9397-4f3b-caca-8d62652f1d96"
      },
      "execution_count": 13,
      "outputs": [
        {
          "output_type": "stream",
          "name": "stdout",
          "text": [
            "image.shape (1, 3, 3, 1)\n",
            "weight.shape (2, 2, 1, 1)\n",
            "conv2d.shape (1, 2, 2, 1)\n",
            "[[12. 16.]\n",
            " [24. 28.]]\n"
          ]
        },
        {
          "output_type": "display_data",
          "data": {
            "text/plain": [
              "<Figure size 432x288 with 1 Axes>"
            ],
            "image/png": "[encoded data removed]"
          },
          "metadata": {
            "needs_background": "light"
          }
        }
      ]
    },
    {
      "cell_type": "code",
      "source": [
        "print(\"image.shape\", image.shape)\n",
        "weight = np.array([[[[1.]],[[1.]]],\n",
        "                   [[[1.]],[[1.]]]])\n",
        "print(\"weight.shape\", weight.shape)\n",
        "weight_init = tf.constant_initializer(weight)\n",
        "conv2d = keras.layers.Conv2D(filters=1, kernel_size=2, padding='SAME', \n",
        "                             kernel_initializer=weight_init)(image)\n",
        "print(\"conv2d.shape\", conv2d.shape)\n",
        "print(conv2d.numpy().reshape(3,3))\n",
        "plt.imshow(conv2d.numpy().reshape(3,3), cmap='gray')\n",
        "plt.show()"
      ],
      "metadata": {
        "colab": {
          "base_uri": "https://localhost:8080/",
          "height": 378
        },
        "id": "IOLD2g06ok4n",
        "outputId": "ee09fa4b-256f-4e91-a5d5-459d95f80e23"
      },
      "execution_count": 14,
      "outputs": [
        {
          "output_type": "stream",
          "name": "stdout",
          "text": [
            "image.shape (1, 3, 3, 1)\n",
            "weight.shape (2, 2, 1, 1)\n",
            "conv2d.shape (1, 3, 3, 1)\n",
            "[[12. 16.  9.]\n",
            " [24. 28. 15.]\n",
            " [15. 17.  9.]]\n"
          ]
        },
        {
          "output_type": "display_data",
          "data": {
            "text/plain": [
              "<Figure size 432x288 with 1 Axes>"
            ],
            "image/png": "[encoded data removed]"
          },
          "metadata": {
            "needs_background": "light"
          }
        }
      ]
    },
    {
      "cell_type": "code",
      "source": [
        "# print(\"imag:\\n\", image)\n",
        "print(\"image.shape\", image.shape)\n",
        "\n",
        "weight = np.array([[[[1.,10.,-1.]],[[1.,10.,-1.]]],\n",
        "                   [[[1.,10.,-1.]],[[1.,10.,-1.]]]])\n",
        "print(\"weight.shape\", weight.shape)\n",
        "weight_init = tf.constant_initializer(weight)\n",
        "conv2d = keras.layers.Conv2D(filters=3, kernel_size=2, padding='SAME',\n",
        "                             kernel_initializer=weight_init)(image)\n",
        "print(\"conv2d.shape\", conv2d.shape)\n",
        "feature_maps = np.swapaxes(conv2d, 0, 3)\n",
        "for i, feature_map in enumerate(feature_maps):\n",
        "    print(feature_map.reshape(3,3))\n",
        "    plt.subplot(1,3,i+1), plt.imshow(feature_map.reshape(3,3), cmap='gray')\n",
        "plt.show()"
      ],
      "metadata": {
        "colab": {
          "base_uri": "https://localhost:8080/",
          "height": 364
        },
        "id": "5l0R5Pbwo-Qr",
        "outputId": "c35a08e0-7374-4712-968a-351f4f524ada"
      },
      "execution_count": 15,
      "outputs": [
        {
          "output_type": "stream",
          "name": "stdout",
          "text": [
            "image.shape (1, 3, 3, 1)\n",
            "weight.shape (2, 2, 1, 3)\n",
            "conv2d.shape (1, 3, 3, 3)\n",
            "[[12. 16.  9.]\n",
            " [24. 28. 15.]\n",
            " [15. 17.  9.]]\n",
            "[[120. 160.  90.]\n",
            " [240. 280. 150.]\n",
            " [150. 170.  90.]]\n",
            "[[-12. -16.  -9.]\n",
            " [-24. -28. -15.]\n",
            " [-15. -17.  -9.]]\n"
          ]
        },
        {
          "output_type": "display_data",
          "data": {
            "text/plain": [
              "<Figure size 432x288 with 3 Axes>"
            ],
            "image/png": "[encoded data removed]"
          },
          "metadata": {
            "needs_background": "light"
          }
        }
      ]
    },
    {
      "cell_type": "markdown",
      "source": [
        "# Padding"
      ],
      "metadata": {
        "id": "zwYNpppGwBzc"
      }
    },
    {
      "cell_type": "code",
      "source": [
        "image = tf.constant([[[[4],[3]],\n",
        "                    [[2],[1]]]], dtype=np.float32)\n",
        "pool = keras.layers.MaxPool2D(pool_size=(2,2), strides=1, padding='VALID')(image)\n",
        "print(pool.shape)\n",
        "print(pool.numpy())"
      ],
      "metadata": {
        "colab": {
          "base_uri": "https://localhost:8080/"
        },
        "id": "cUy04XUUpLYt",
        "outputId": "a97c6628-9f73-4ea1-f3e5-bafdbbd9c24b"
      },
      "execution_count": 16,
      "outputs": [
        {
          "output_type": "stream",
          "name": "stdout",
          "text": [
            "(1, 1, 1, 1)\n",
            "[[[[4.]]]]\n"
          ]
        }
      ]
    },
    {
      "cell_type": "code",
      "source": [
        "image = tf.constant([[[[4],[3]],\n",
        "                    [[2],[1]]]], dtype=np.float32)\n",
        "pool = keras.layers.MaxPool2D(pool_size=(2,2), strides=1, padding='SAME')(image)\n",
        "print(pool.shape)\n",
        "print(pool.numpy())"
      ],
      "metadata": {
        "colab": {
          "base_uri": "https://localhost:8080/"
        },
        "id": "ZA8QzFNXwA-f",
        "outputId": "ea0ba42b-1640-4749-e0d1-1e61025c7bea"
      },
      "execution_count": 17,
      "outputs": [
        {
          "output_type": "stream",
          "name": "stdout",
          "text": [
            "(1, 2, 2, 1)\n",
            "[[[[4.]\n",
            "   [3.]]\n",
            "\n",
            "  [[2.]\n",
            "   [1.]]]]\n"
          ]
        }
      ]
    },
    {
      "cell_type": "markdown",
      "source": [
        "#Mnist 적용"
      ],
      "metadata": {
        "id": "mA719ttzwmov"
      }
    },
    {
      "cell_type": "code",
      "source": [
        "mnist = keras.datasets.mnist\n",
        "class_names = ['0', '1', '2', '3', '4', '5', '6', '7', '8', '9']"
      ],
      "metadata": {
        "id": "8M2qQplEwQ_P"
      },
      "execution_count": 18,
      "outputs": []
    },
    {
      "cell_type": "code",
      "source": [
        "(train_images, train_labels), (test_images, test_labels) = mnist.load_data()"
      ],
      "metadata": {
        "colab": {
          "base_uri": "https://localhost:8080/"
        },
        "id": "v0quQC4pwdVw",
        "outputId": "efaa6aa9-41c2-46f7-953e-51543e21d18a"
      },
      "execution_count": 19,
      "outputs": [
        {
          "output_type": "stream",
          "name": "stdout",
          "text": [
            "Downloading data from https://storage.googleapis.com/tensorflow/tf-keras-datasets/mnist.npz\n",
            "11493376/11490434 [==============================] - 0s 0us/step\n",
            "11501568/11490434 [==============================] - 0s 0us/step\n"
          ]
        }
      ]
    },
    {
      "cell_type": "code",
      "source": [
        "train_images = train_images.astype(np.float32) / 255.\n",
        "test_images = test_images.astype(np.float32) / 255."
      ],
      "metadata": {
        "id": "Kc4zOKDpwfCX"
      },
      "execution_count": 20,
      "outputs": []
    },
    {
      "cell_type": "code",
      "source": [
        "img = train_images[0]\n",
        "plt.imshow(img, cmap='gray')\n",
        "plt.show()"
      ],
      "metadata": {
        "colab": {
          "base_uri": "https://localhost:8080/",
          "height": 265
        },
        "id": "sqMqZK7iwhab",
        "outputId": "04d18e90-e117-4a1e-c2df-25bae7cfc033"
      },
      "execution_count": 30,
      "outputs": [
        {
          "output_type": "display_data",
          "data": {
            "text/plain": [
              "<Figure size 432x288 with 1 Axes>"
            ],
            "image/png": "[encoded data removed]"
          },
          "metadata": {
            "needs_background": "light"
          }
        }
      ]
    },
    {
      "cell_type": "code",
      "source": [
        "img = img.reshape(-1,28,28,1)\n",
        "img = tf.convert_to_tensor(img)\n",
        "weight_init = keras.initializers.RandomNormal(stddev=0.01)\n",
        "conv2d = keras.layers.Conv2D(filters=5, kernel_size=3, strides=(2, 2), padding='SAME', \n",
        "                             kernel_initializer=weight_init)(img)\n",
        "print(conv2d.shape)"
      ],
      "metadata": {
        "colab": {
          "base_uri": "https://localhost:8080/"
        },
        "id": "Eg7CyNVMxAT8",
        "outputId": "37e21910-79f4-4d2b-89f1-f44773883a15"
      },
      "execution_count": 31,
      "outputs": [
        {
          "output_type": "stream",
          "name": "stdout",
          "text": [
            "(1, 14, 14, 5)\n"
          ]
        }
      ]
    },
    {
      "cell_type": "code",
      "source": [
        "feature_maps = np.swapaxes(conv2d, 0, 3)\n",
        "for i, feature_map in enumerate(feature_maps):\n",
        "    plt.subplot(1,5,i+1), plt.imshow(feature_map.reshape(14,14), cmap='gray')\n",
        "plt.show()"
      ],
      "metadata": {
        "colab": {
          "base_uri": "https://localhost:8080/",
          "height": 108
        },
        "id": "GV74kQEcxEg9",
        "outputId": "c5dce5dc-2713-45b5-a18c-da6b3eab2c4a"
      },
      "execution_count": 32,
      "outputs": [
        {
          "output_type": "display_data",
          "data": {
            "text/plain": [
              "<Figure size 432x288 with 5 Axes>"
            ],
            "image/png": "[encoded data removed]"
          },
          "metadata": {
            "needs_background": "light"
          }
        }
      ]
    },
    {
      "cell_type": "code",
      "source": [
        "pool = keras.layers.MaxPool2D(pool_size=(2, 2), strides=(2, 2), padding='SAME')(conv2d)\n",
        "print(pool.shape)\n",
        "\n",
        "feature_maps = np.swapaxes(pool, 0, 3)\n",
        "for i, feature_map in enumerate(feature_maps):\n",
        "    plt.subplot(1,5,i+1), plt.imshow(feature_map.reshape(7, 7), cmap='gray')\n",
        "plt.show()"
      ],
      "metadata": {
        "colab": {
          "base_uri": "https://localhost:8080/",
          "height": 124
        },
        "id": "eYbgbc4vxGJk",
        "outputId": "82053aa0-d5eb-4a3b-e681-8720a91b941d"
      },
      "execution_count": 33,
      "outputs": [
        {
          "output_type": "stream",
          "name": "stdout",
          "text": [
            "(1, 7, 7, 5)\n"
          ]
        },
        {
          "output_type": "display_data",
          "data": {
            "text/plain": [
              "<Figure size 432x288 with 5 Axes>"
            ],
            "image/png": "[encoded data removed]"
          },
          "metadata": {
            "needs_background": "light"
          }
        }
      ]
    },
    {
      "cell_type": "code",
      "source": [
        ""
      ],
      "metadata": {
        "id": "-BcuAAPTyF7d"
      },
      "execution_count": null,
      "outputs": []
    }
  ]
}